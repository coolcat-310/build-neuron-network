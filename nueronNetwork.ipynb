{
 "cells": [
  {
   "cell_type": "code",
   "execution_count": 4,
   "id": "color-working",
   "metadata": {},
   "outputs": [],
   "source": [
    "# neural network class definition\n",
    "class Neural_Network:\n",
    "    # initialise the neural network\n",
    "    def __init__(self):\n",
    "        pass\n",
    "    \n",
    "    #train the neural network\n",
    "    def train(self):\n",
    "        pass\n",
    "    \n",
    "    # query the neural network\n",
    "    def query(self):\n",
    "        pass\n",
    "    "
   ]
  },
  {
   "cell_type": "code",
   "execution_count": null,
   "id": "flexible-lafayette",
   "metadata": {},
   "outputs": [],
   "source": []
  }
 ],
 "metadata": {
  "kernelspec": {
   "display_name": "Python 3",
   "language": "python",
   "name": "python3"
  },
  "language_info": {
   "codemirror_mode": {
    "name": "ipython",
    "version": 3
   },
   "file_extension": ".py",
   "mimetype": "text/x-python",
   "name": "python",
   "nbconvert_exporter": "python",
   "pygments_lexer": "ipython3",
   "version": "3.8.2"
  }
 },
 "nbformat": 4,
 "nbformat_minor": 5
}